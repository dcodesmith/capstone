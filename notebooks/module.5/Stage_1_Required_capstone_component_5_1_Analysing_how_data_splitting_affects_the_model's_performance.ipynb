{
  "nbformat": 4,
  "nbformat_minor": 0,
  "metadata": {
    "colab": {
      "provenance": []
    },
    "kernelspec": {
      "name": "python3",
      "display_name": "Python 3"
    },
    "language_info": {
      "name": "python"
    }
  },
  "cells": [
    {
      "cell_type": "code",
      "execution_count": 14,
      "metadata": {
        "id": "Hil3PqbyHVun"
      },
      "outputs": [],
      "source": [
        "from sklearn.datasets import load_wine\n",
        "from sklearn.model_selection import train_test_split\n",
        "from sklearn.linear_model import LogisticRegression\n",
        "from sklearn.metrics import accuracy_score, classification_report\n",
        "\n",
        "# Load the default wine dataset\n",
        "data = load_wine()\n",
        "X = data.data\n",
        "y = data.target\n"
      ]
    },
    {
      "cell_type": "code",
      "source": [
        "def split_train_evaluate(X, y, test_size_step1, test_size_step2):\n",
        "    \"\"\"\n",
        "    Run logistic regression with a two-step split:\n",
        "      1) Hold out test_size_step1 of total data as TEST\n",
        "      2) From remaining, hold out test_size_step2 as VALIDATION\n",
        "\n",
        "    Examples:\n",
        "      - 70/15/15  -> run_experiment(X, y, 0.15, 0.1765)\n",
        "      - 60/20/20  -> run_experiment(X, y, 0.20, 0.25)\n",
        "    \"\"\"\n",
        "    random_state = 42\n",
        "\n",
        "    # Step 1: Split off test set\n",
        "    X_train_val, X_test, y_train_val, y_test = train_test_split(\n",
        "        X, y, test_size=test_size_step1, random_state=random_state, stratify=y\n",
        "    )\n",
        "\n",
        "    # Step 2: Split validation from remaining\n",
        "    X_train, X_val, y_train, y_val = train_test_split(\n",
        "        X_train_val, y_train_val, test_size=test_size_step2,\n",
        "        random_state=random_state, stratify=y_train_val\n",
        "    )\n",
        "\n",
        "    # Fit logistic regression\n",
        "    model = LogisticRegression(max_iter=1000, random_state=random_state)\n",
        "    model.fit(X_train, y_train)\n",
        "\n",
        "    # Evaluate validation set\n",
        "    val_preds = model.predict(X_val)\n",
        "    val_accuracy = accuracy_score(y_val, val_preds)\n",
        "    print(f\"Validation Accuracy: {val_accuracy:.4f}\")\n",
        "\n",
        "    # Evaluate test set\n",
        "    test_preds = model.predict(X_test)\n",
        "    test_accuracy = accuracy_score(y_test, test_preds)\n",
        "    print(f\"Test Accuracy: {test_accuracy:.4f}\")\n",
        "\n",
        "    # Detailed classification report on test set\n",
        "    print(\"\\nClassification Report on Test Set:\")\n",
        "    print(classification_report(y_test, test_preds, target_names=data.target_names))"
      ],
      "metadata": {
        "id": "oqnQNQJBHboG"
      },
      "execution_count": 15,
      "outputs": []
    },
    {
      "cell_type": "code",
      "source": [
        "# 70/15/15 split\n",
        "split_train_evaluate(X, y, 0.15, 0.1765)"
      ],
      "metadata": {
        "colab": {
          "base_uri": "https://localhost:8080/"
        },
        "id": "U5PSVQPuXMev",
        "outputId": "7e0a6dd2-5a32-4ffe-b95d-630f0923fd9d"
      },
      "execution_count": 16,
      "outputs": [
        {
          "output_type": "stream",
          "name": "stdout",
          "text": [
            "\n",
            "=== 70/15/15 split ===\n",
            "Validation Accuracy: 1.0000\n",
            "Test Accuracy: 0.9630\n",
            "\n",
            "Classification Report on Test Set:\n",
            "              precision    recall  f1-score   support\n",
            "\n",
            "     class_0       1.00      1.00      1.00         9\n",
            "     class_1       0.92      1.00      0.96        11\n",
            "     class_2       1.00      0.86      0.92         7\n",
            "\n",
            "    accuracy                           0.96        27\n",
            "   macro avg       0.97      0.95      0.96        27\n",
            "weighted avg       0.97      0.96      0.96        27\n",
            "\n"
          ]
        },
        {
          "output_type": "stream",
          "name": "stderr",
          "text": [
            "/usr/local/lib/python3.12/dist-packages/sklearn/linear_model/_logistic.py:465: ConvergenceWarning: lbfgs failed to converge (status=1):\n",
            "STOP: TOTAL NO. OF ITERATIONS REACHED LIMIT.\n",
            "\n",
            "Increase the number of iterations (max_iter) or scale the data as shown in:\n",
            "    https://scikit-learn.org/stable/modules/preprocessing.html\n",
            "Please also refer to the documentation for alternative solver options:\n",
            "    https://scikit-learn.org/stable/modules/linear_model.html#logistic-regression\n",
            "  n_iter_i = _check_optimize_result(\n"
          ]
        }
      ]
    },
    {
      "cell_type": "code",
      "source": [
        "# 60/20/20 split\n",
        "split_train_evaluate(X, y, 0.20, 0.25)"
      ],
      "metadata": {
        "colab": {
          "base_uri": "https://localhost:8080/"
        },
        "id": "kyjEv_sxXTeY",
        "outputId": "c9362b8a-3252-44d2-e0c6-7f0384c47900"
      },
      "execution_count": 18,
      "outputs": [
        {
          "output_type": "stream",
          "name": "stdout",
          "text": [
            "\n",
            "=== 60/20/20 split ===\n",
            "Validation Accuracy: 0.9444\n",
            "Test Accuracy: 0.9722\n",
            "\n",
            "Classification Report on Test Set:\n",
            "              precision    recall  f1-score   support\n",
            "\n",
            "     class_0       1.00      1.00      1.00        12\n",
            "     class_1       0.93      1.00      0.97        14\n",
            "     class_2       1.00      0.90      0.95        10\n",
            "\n",
            "    accuracy                           0.97        36\n",
            "   macro avg       0.98      0.97      0.97        36\n",
            "weighted avg       0.97      0.97      0.97        36\n",
            "\n"
          ]
        },
        {
          "output_type": "stream",
          "name": "stderr",
          "text": [
            "/usr/local/lib/python3.12/dist-packages/sklearn/linear_model/_logistic.py:465: ConvergenceWarning: lbfgs failed to converge (status=1):\n",
            "STOP: TOTAL NO. OF ITERATIONS REACHED LIMIT.\n",
            "\n",
            "Increase the number of iterations (max_iter) or scale the data as shown in:\n",
            "    https://scikit-learn.org/stable/modules/preprocessing.html\n",
            "Please also refer to the documentation for alternative solver options:\n",
            "    https://scikit-learn.org/stable/modules/linear_model.html#logistic-regression\n",
            "  n_iter_i = _check_optimize_result(\n"
          ]
        }
      ]
    },
    {
      "cell_type": "code",
      "source": [],
      "metadata": {
        "id": "Q2-ur3fsdajJ"
      },
      "execution_count": null,
      "outputs": []
    }
  ]
}