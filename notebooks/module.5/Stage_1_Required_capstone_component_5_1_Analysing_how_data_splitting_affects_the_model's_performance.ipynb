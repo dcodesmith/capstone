{
  "nbformat": 4,
  "nbformat_minor": 0,
  "metadata": {
    "colab": {
      "provenance": []
    },
    "kernelspec": {
      "name": "python3",
      "display_name": "Python 3"
    },
    "language_info": {
      "name": "python"
    }
  },
  "cells": [
    {
      "cell_type": "code",
      "execution_count": 22,
      "metadata": {
        "id": "Hil3PqbyHVun"
      },
      "outputs": [],
      "source": [
        "from sklearn.datasets import load_wine\n",
        "from sklearn.model_selection import train_test_split\n",
        "from sklearn.linear_model import LogisticRegression\n",
        "from sklearn.metrics import accuracy_score, classification_report\n",
        "from sklearn.pipeline import make_pipeline\n",
        "from sklearn.preprocessing import StandardScaler\n",
        "\n",
        "# Load the default wine dataset\n",
        "data = load_wine()\n",
        "X = data.data\n",
        "y = data.target\n"
      ]
    },
    {
      "cell_type": "code",
      "source": [
        "def split_train_evaluate(test_size_step1, test_size_step2, scale=False):\n",
        "    \"\"\"\n",
        "    Run logistic regression with a two-step split:\n",
        "      1) Hold out test_size_step1 of total data as TEST\n",
        "      2) From remaining, hold out test_size_step2 as VALIDATION\n",
        "\n",
        "    Args:\n",
        "        test_size_step1 (float): test size proportion\n",
        "        test_size_step2 (float): validation size proportion (from remaining)\n",
        "        scale (bool): if True, apply StandardScaler before training\n",
        "\n",
        "    Examples:\n",
        "      - 70/15/15  -> run_experiment(X, y, 0.15, 0.1765, scale=True)\n",
        "      - 60/20/20  -> run_experiment(X, y, 0.20, 0.25, scale=True)\n",
        "    \"\"\"\n",
        "    random_state = 42\n",
        "\n",
        "    # Step 1: Split off test set\n",
        "    X_train_val, X_test, y_train_val, y_test = train_test_split(\n",
        "        X, y, test_size=test_size_step1, random_state=random_state, stratify=y\n",
        "    )\n",
        "\n",
        "    # Step 2: Split validation from remaining\n",
        "    X_train, X_val, y_train, y_val = train_test_split(\n",
        "        X_train_val, y_train_val, test_size=test_size_step2,\n",
        "        random_state=random_state, stratify=y_train_val\n",
        "    )\n",
        "\n",
        "\n",
        "    # Choose model & Fit logistic regression\n",
        "    if scale:\n",
        "        model = make_pipeline(StandardScaler(), LogisticRegression(max_iter=100, random_state=random_state))\n",
        "    else:\n",
        "        model = LogisticRegression(max_iter=1000, random_state=random_state)\n",
        "\n",
        "    # model = LogisticRegression(max_iter=5000, random_state=random_state)\n",
        "    model.fit(X_train, y_train)\n",
        "\n",
        "    # Evaluate validation set\n",
        "    val_preds = model.predict(X_val)\n",
        "    val_accuracy = accuracy_score(y_val, val_preds)\n",
        "    print(f\"Validation Accuracy: {val_accuracy:.4f}\")\n",
        "\n",
        "    # Evaluate test set\n",
        "    test_preds = model.predict(X_test)\n",
        "    test_accuracy = accuracy_score(y_test, test_preds)\n",
        "    print(f\"Test Accuracy: {test_accuracy:.4f}\")\n",
        "\n",
        "    # Detailed classification report on test set\n",
        "    print(\"\\nClassification Report on Test Set:\")\n",
        "    print(classification_report(y_test, test_preds, target_names=data.target_names))"
      ],
      "metadata": {
        "id": "oqnQNQJBHboG"
      },
      "execution_count": 31,
      "outputs": []
    },
    {
      "cell_type": "markdown",
      "metadata": {
        "id": "0d0097e4"
      },
      "source": [
        "# 70/15/15 split\n",
        "\n"
      ]
    },
    {
      "cell_type": "code",
      "source": [
        "# 70/15/15 split\n",
        "split_train_evaluate(0.15, 0.1765, scale=True)"
      ],
      "metadata": {
        "colab": {
          "base_uri": "https://localhost:8080/"
        },
        "id": "U5PSVQPuXMev",
        "outputId": "2663d907-0227-4811-b712-17e456ce46c6"
      },
      "execution_count": 32,
      "outputs": [
        {
          "output_type": "stream",
          "name": "stdout",
          "text": [
            "Validation Accuracy: 1.0000\n",
            "Test Accuracy: 1.0000\n",
            "\n",
            "Classification Report on Test Set:\n",
            "              precision    recall  f1-score   support\n",
            "\n",
            "     class_0       1.00      1.00      1.00         9\n",
            "     class_1       1.00      1.00      1.00        11\n",
            "     class_2       1.00      1.00      1.00         7\n",
            "\n",
            "    accuracy                           1.00        27\n",
            "   macro avg       1.00      1.00      1.00        27\n",
            "weighted avg       1.00      1.00      1.00        27\n",
            "\n"
          ]
        }
      ]
    },
    {
      "cell_type": "markdown",
      "metadata": {
        "id": "d0c7424f"
      },
      "source": [
        "# 60/20/20 split"
      ]
    },
    {
      "cell_type": "code",
      "source": [
        "split_train_evaluate(0.20, 0.25, scale=True)"
      ],
      "metadata": {
        "colab": {
          "base_uri": "https://localhost:8080/"
        },
        "id": "kyjEv_sxXTeY",
        "outputId": "08871ff9-c794-480b-a646-3493b296a41e"
      },
      "execution_count": 28,
      "outputs": [
        {
          "output_type": "stream",
          "name": "stdout",
          "text": [
            "Validation Accuracy: 1.0000\n",
            "Test Accuracy: 0.9722\n",
            "\n",
            "Classification Report on Test Set:\n",
            "              precision    recall  f1-score   support\n",
            "\n",
            "     class_0       1.00      1.00      1.00        12\n",
            "     class_1       0.93      1.00      0.97        14\n",
            "     class_2       1.00      0.90      0.95        10\n",
            "\n",
            "    accuracy                           0.97        36\n",
            "   macro avg       0.98      0.97      0.97        36\n",
            "weighted avg       0.97      0.97      0.97        36\n",
            "\n"
          ]
        }
      ]
    },
    {
      "cell_type": "code",
      "source": [],
      "metadata": {
        "id": "kZenB-OCM9RX"
      },
      "execution_count": null,
      "outputs": []
    }
  ]
}